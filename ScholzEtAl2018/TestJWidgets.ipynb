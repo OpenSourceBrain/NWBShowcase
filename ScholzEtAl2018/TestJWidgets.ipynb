{
 "cells": [
  {
   "cell_type": "code",
   "execution_count": 1,
   "metadata": {},
   "outputs": [],
   "source": [
    "from pynwb import NWBHDF5IO\n",
    "from nwbwidgets import nwb2widget\n",
    "import h5py\n",
    "import numpy as np\n",
    "\n",
    "from jupyterthemes import jtplot\n",
    "    \n",
    "jtplot.style(theme='monokai', context='notebook',ticks=True, grid=False)\n",
    "\n"
   ]
  },
  {
   "cell_type": "code",
   "execution_count": 2,
   "metadata": {},
   "outputs": [],
   "source": [
    "filenames = ['AML18_moving.hdf5','AML175_moving.hdf5', 'AML32_moving.hdf5']\n",
    "\n"
   ]
  },
  {
   "cell_type": "code",
   "execution_count": 3,
   "metadata": {},
   "outputs": [],
   "source": [
    "file_number = 0\n",
    "exp_number = 0\n",
    "\n",
    "# load file here to iterate over experiments in file\n",
    "filename = filenames[file_number]\n",
    "celegans_h5 = h5py.File(filename, 'r')\n",
    "\n",
    "# get experiments\n",
    "experiments  = np.array(celegans_h5['/'])\n",
    "\n",
    "# specify which experiment\n",
    "exp = experiments[exp_number]\n",
    "\n",
    "nwb_file_name = 'ScholzEtAl2018_%s_%s.nwb'%(filename.split('.')[0],exp)\n",
    "\n"
   ]
  },
  {
   "cell_type": "code",
   "execution_count": 4,
   "metadata": {
    "scrolled": false
   },
   "outputs": [
    {
     "name": "stderr",
     "output_type": "stream",
     "text": [
      "/home/vrhaynes/tools/anaconda3/envs/nwb_env/lib/python3.7/site-packages/hdmf/spec/namespace.py:470: UserWarning: ignoring namespace 'hdmf-common' because it already exists\n",
      "  warn(\"ignoring namespace '%s' because it already exists\" % ns['name'])\n",
      "/home/vrhaynes/tools/anaconda3/envs/nwb_env/lib/python3.7/site-packages/hdmf/spec/namespace.py:470: UserWarning: ignoring namespace 'core' because it already exists\n",
      "  warn(\"ignoring namespace '%s' because it already exists\" % ns['name'])\n"
     ]
    },
    {
     "data": {
      "application/vnd.jupyter.widget-view+json": {
       "model_id": "bd6d8005a3ff46e3aed5fc1e6d71dea3",
       "version_major": 2,
       "version_minor": 0
      },
      "text/plain": [
       "VBox(children=(HBox(children=(Label(value='session_description:', layout=Layout(max_height='40px', max_width='…"
      ]
     },
     "metadata": {},
     "output_type": "display_data"
    }
   ],
   "source": [
    "io = NWBHDF5IO(nwb_file_name, mode='r',\n",
    "              load_namespaces=True) # load the extension namespaces\n",
    "\n",
    "nwb = io.read()\n",
    "\n",
    "nwb2widget(nwb)\n",
    "\n"
   ]
  },
  {
   "cell_type": "code",
   "execution_count": null,
   "metadata": {},
   "outputs": [],
   "source": []
  },
  {
   "cell_type": "code",
   "execution_count": null,
   "metadata": {},
   "outputs": [],
   "source": []
  }
 ],
 "metadata": {
  "kernelspec": {
   "display_name": "nwb_env",
   "language": "python",
   "name": "nwb_env"
  },
  "language_info": {
   "codemirror_mode": {
    "name": "ipython",
    "version": 3
   },
   "file_extension": ".py",
   "mimetype": "text/x-python",
   "name": "python",
   "nbconvert_exporter": "python",
   "pygments_lexer": "ipython3",
   "version": "3.7.7"
  }
 },
 "nbformat": 4,
 "nbformat_minor": 2
}
