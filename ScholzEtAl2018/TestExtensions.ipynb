{
 "cells": [
  {
   "cell_type": "markdown",
   "metadata": {},
   "source": [
    "# Custom Extensions for Leifer Lab Datasets"
   ]
  },
  {
   "cell_type": "code",
   "execution_count": 1,
   "metadata": {},
   "outputs": [],
   "source": [
    "export_ext = True"
   ]
  },
  {
   "cell_type": "code",
   "execution_count": 2,
   "metadata": {},
   "outputs": [],
   "source": [
    "import pynwb\n",
    "from pynwb.spec import NWBNamespaceBuilder, NWBLinkSpec,NWBGroupSpec, NWBDatasetSpec, NWBAttributeSpec\n",
    "        \n",
    "        "
   ]
  },
  {
   "cell_type": "markdown",
   "metadata": {},
   "source": [
    "## Build neural data NWB extensions"
   ]
  },
  {
   "cell_type": "code",
   "execution_count": 3,
   "metadata": {},
   "outputs": [],
   "source": [
    "ns_path = \"leiferlab.namespace.yaml\"\n",
    "ext_source = \"leiferlab.extensions.yaml\"\n",
    "\n"
   ]
  },
  {
   "cell_type": "code",
   "execution_count": 4,
   "metadata": {},
   "outputs": [],
   "source": [
    "# This builds the name space\n",
    "ns_builder = NWBNamespaceBuilder(doc=\"Extensions to be used for Scholz datasets from Leifer lab\",\n",
    "                                name=\"leiferlab\", # reference to above \n",
    "                                author='Vergil R. Haynes',\n",
    "                                version=pynwb.__version__)\n",
    "\n"
   ]
  },
  {
   "cell_type": "code",
   "execution_count": 5,
   "metadata": {},
   "outputs": [],
   "source": [
    "types = ['NWBDataInterface','TimeSeries','SpatialSeries']\n",
    "\n",
    "for this_type in types:\n",
    "    ns_builder.include_type(data_type=this_type,\n",
    "                  namespace='core')\n",
    "    \n",
    "    "
   ]
  },
  {
   "cell_type": "markdown",
   "metadata": {},
   "source": [
    "#### NeuronPositionTable to replace PlaneSegmentation\n",
    "<u>Notes</u>:\n",
    "> These datasets do not contain image stacks to be used to build ROI DynamicTableRegion. Alternatively, we build a neuronal position table which can link all associated data elements. \n",
    ">\n",
    "> See use of ImagingPlane, PlaneSegmentation and ImageSegmentation here (https://pynwb.readthedocs.io/en/stable/_modules/pynwb/ophys.html)"
   ]
  },
  {
   "cell_type": "code",
   "execution_count": 6,
   "metadata": {},
   "outputs": [],
   "source": [
    "# What new attributes to include associated with the table\n",
    "attributes = [NWBAttributeSpec(name='origin_coords',\n",
    "                              doc='Physical location of the first element of the neural volume such as (0,0,0) for 3D data',\n",
    "                              dtype='float64',\n",
    "                              shape=(3,),\n",
    "                              required=False),\n",
    "             NWBAttributeSpec(name='description',\n",
    "                             doc='Description of this table',\n",
    "                             dtype='text',\n",
    "                             required=True)]\n",
    "\n",
    "# Small datasets for table (column oriented)\n",
    "datasets = [NWBDatasetSpec(name='neuron_id',\n",
    "                              doc='Neuron IDs under specified ordering',\n",
    "                              dtype='numeric',\n",
    "                              dims=['num_neurons',],\n",
    "                             shape=(None,)),\n",
    "\n",
    "            NWBDatasetSpec(name='x_pos',\n",
    "                               doc='Neuron 1D X-position previously extracted from image stacks',\n",
    "                               dtype='numeric',\n",
    "                               dims=['num_neurons'],\n",
    "                               shape=(None,)),\n",
    "                           \n",
    "            NWBDatasetSpec(name='y_pos',\n",
    "                               doc='Neuron 1D Y-position previously extracted from image stacks',\n",
    "                               dtype='numeric',\n",
    "                               dims=['num_neurons'],\n",
    "                               shape=(None,)),\n",
    "                           \n",
    "            NWBDatasetSpec(name='z_pos',\n",
    "                               doc='Neuron 1D Z-position previously extracted from image stacks',\n",
    "                               dtype='numeric',\n",
    "                               dims=['num_neurons'],\n",
    "                               shape=(None,))]\n",
    "\n",
    "# this the actual extension\n",
    "ext = NWBGroupSpec('A custom NeuronPositionTable for Leifer lab',\n",
    "                  datasets=datasets,\n",
    "                  attributes=attributes,\n",
    "                  neurodata_type_inc='NWBDataInterface',\n",
    "                  neurodata_type_def='NeuronPositionTable')\n",
    "\n",
    "# add it to the name space builder\n",
    "ns_builder.add_spec(ext_source,ext)\n",
    "\n"
   ]
  },
  {
   "cell_type": "markdown",
   "metadata": {},
   "source": [
    "#### ChannelGroup to contain both optical channels"
   ]
  },
  {
   "cell_type": "code",
   "execution_count": 7,
   "metadata": {},
   "outputs": [],
   "source": [
    "attributes = [NWBAttributeSpec(name='description',\n",
    "                             doc='Description of this group pertaining to differences in channels',\n",
    "                             dtype='text',\n",
    "                             required=True)]\n",
    "\n",
    "\n",
    "links = [NWBLinkSpec(name='device',\n",
    "                          doc='Link to Device object used to record',\n",
    "                          target_type='Device'),\n",
    "         NWBLinkSpec(name='green_optical_channel',\n",
    "                          doc='Link to specific optical channel for GCAMP6',\n",
    "                          target_type='OpticalChannel'),\n",
    "         NWBLinkSpec(name='red_optical_channel',\n",
    "                          doc='Link to specific optical channel for red',\n",
    "                          target_type='OpticalChannel')]\n",
    "\n",
    "\n",
    "\n",
    "ext = NWBGroupSpec('A custom ChannelGroup for Leifer lab',\n",
    "                 attributes=attributes,\n",
    "                  links=links,\n",
    "                  neurodata_type_inc='NWBDataInterface',\n",
    "                  neurodata_type_def='ChannelGroup')\n",
    "\n",
    "ns_builder.add_spec(ext_source,ext)\n",
    "\n"
   ]
  },
  {
   "cell_type": "markdown",
   "metadata": {},
   "source": [
    "#### ResponseSeries to replace ROIResponseSeries\n"
   ]
  },
  {
   "cell_type": "code",
   "execution_count": 8,
   "metadata": {},
   "outputs": [],
   "source": [
    "attributes = [NWBAttributeSpec(name='neuron_id',\n",
    "                             doc='Neuron IDs under specified ordering',\n",
    "                             dtype='int',\n",
    "                             required=True),\n",
    "             NWBAttributeSpec(name='description',\n",
    "                             doc='Description of time series',\n",
    "                             dtype='text',\n",
    "                             default_value='no description',\n",
    "                             required=False),\n",
    "             NWBAttributeSpec(name='comments',\n",
    "                             doc='Human-readable comments about the timeseries',\n",
    "                             dtype='text',\n",
    "                             default_value='no comment',\n",
    "                             required=False),]\n",
    "#              NWBAttributeSpec(name='optical_channel',\n",
    "#                              doc='Description of optical channel used',\n",
    "#                              dtype='text',\n",
    "#                              default_value='no optical_channel',\n",
    "#                              required=False)]\n",
    "\n",
    "\n",
    "datasets = [NWBDatasetSpec(name='data',\n",
    "                          doc='Neural response signal',\n",
    "                           dtype='numeric',\n",
    "                           dims=[['num_times'],['num_times','num_neurons']],\n",
    "                          shape=[None,[None,None]]),\n",
    "            NWBDatasetSpec(name='timestamps',\n",
    "                          doc='Timestamps for samples stored in data, in seconds',\n",
    "                          dtype='float64',\n",
    "                          dims=['num_times'],\n",
    "                          shape=[None])]\n",
    "\n",
    "\n",
    "links = [NWBLinkSpec(name='optical_channel',\n",
    "                          doc='Link to specific channels used for this timeseries',\n",
    "                          target_type='OpticalChannel',\n",
    "                          quantity='*')] # doesn't have to have it\n",
    "\n",
    "\n",
    "\n",
    "# this the actual extension\n",
    "ext = NWBGroupSpec('A custom ResponseSeries for Leifer lab',\n",
    "                   datasets=datasets,\n",
    "                  attributes=attributes,\n",
    "                   links=links,\n",
    "                  neurodata_type_inc='TimeSeries',\n",
    "                  neurodata_type_def='ResponseSeries')\n",
    "\n",
    "ns_builder.add_spec(ext_source,ext)\n",
    "\n"
   ]
  },
  {
   "cell_type": "markdown",
   "metadata": {},
   "source": [
    "## Build behavioral data NWB extensions"
   ]
  },
  {
   "cell_type": "code",
   "execution_count": 9,
   "metadata": {},
   "outputs": [],
   "source": [
    "attributes = [NWBAttributeSpec(name='origin_coords',\n",
    "                              doc='Physical location of the first element of imaging volume such as (0,0) for 2D data',\n",
    "                              dtype='float64',\n",
    "                              shape=(2,),\n",
    "                              required=False),\n",
    "              NWBAttributeSpec(name='coord_id',\n",
    "                             doc='Coordinate ID used to specify a point along each centerline',\n",
    "                             dtype='int',\n",
    "                             required=True),\n",
    "             NWBAttributeSpec(name='description',\n",
    "                             doc='Description of time series',\n",
    "                             dtype='text',\n",
    "                             default_value='no description',\n",
    "                             required=False),\n",
    "             NWBAttributeSpec(name='comments',\n",
    "                             doc='Human-readable comments about the timeseries',\n",
    "                             dtype='text',\n",
    "                             default_value='no comment',\n",
    "                             required=False),]\n",
    "\n",
    "\n",
    "\n",
    "datasets = [NWBDatasetSpec(name='data',\n",
    "                          doc='Positional data corresponding to specific relative coordinate',\n",
    "                           dtype='numeric',\n",
    "                           dims=['num_times',['num_times','num_coords']],\n",
    "                          shape=[None,[None,None]]),\n",
    "            NWBDatasetSpec(name='timestamps',\n",
    "                          doc='Timestamps for samples stored in data, in seconds',\n",
    "                          dtype='float64',\n",
    "                          dims=['num_times'],\n",
    "                          shape=[None])]\n",
    "\n",
    "\n",
    "\n",
    "# this the actual extension\n",
    "ext = NWBGroupSpec('A custom CenterlineSeries for Leifer lab',\n",
    "                   datasets=datasets,\n",
    "                  attributes=attributes,\n",
    "                  neurodata_type_inc='SpatialSeries',\n",
    "                  neurodata_type_def='CenterlineSeries')\n",
    "\n",
    "ns_builder.add_spec(ext_source,ext)\n",
    "\n"
   ]
  },
  {
   "cell_type": "markdown",
   "metadata": {},
   "source": [
    "## Export custom extensions"
   ]
  },
  {
   "cell_type": "code",
   "execution_count": 10,
   "metadata": {},
   "outputs": [],
   "source": [
    "if export_ext:\n",
    "    ns_builder.export(ns_path)"
   ]
  },
  {
   "cell_type": "code",
   "execution_count": null,
   "metadata": {},
   "outputs": [],
   "source": []
  }
 ],
 "metadata": {
  "kernelspec": {
   "display_name": "nwb_env",
   "language": "python",
   "name": "nwb_env"
  },
  "language_info": {
   "codemirror_mode": {
    "name": "ipython",
    "version": 3
   },
   "file_extension": ".py",
   "mimetype": "text/x-python",
   "name": "python",
   "nbconvert_exporter": "python",
   "pygments_lexer": "ipython3",
   "version": "3.7.7"
  }
 },
 "nbformat": 4,
 "nbformat_minor": 2
}
